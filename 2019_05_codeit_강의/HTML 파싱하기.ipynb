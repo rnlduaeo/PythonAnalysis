{
 "cells": [
  {
   "cell_type": "code",
   "execution_count": 1,
   "metadata": {},
   "outputs": [],
   "source": [
    "html_code= \"\"\"<!DOCTYPE html>\n",
    "<html>\n",
    "<head>\n",
    "    <title>Sample Website</title>\n",
    "</head>\n",
    "<body>\n",
    "<h2>HTML 연습!</h2>\n",
    "\n",
    "<p>이것은 첫 번째 문단입니다.</p>\n",
    "<p>이것은 두 번째 문단입니다!</p>\n",
    "\n",
    "<ul>\n",
    "    <li>커피</li>\n",
    "    <li>녹차</li>\n",
    "    <li>우유</li>\n",
    "</ul>\n",
    "\n",
    "<img src='https://i.imgur.com/bY0l0PC.jpg' alt=\"coffee\"/>\n",
    "<img src='https://i.imgur.com/fvJLWdV.jpg' alt=\"green-tea\"/>\n",
    "<img src='https://i.imgur.com/rNOIbNt.jpg' alt=\"milk\"/>\n",
    "\n",
    "</body>\n",
    "</html>\"\"\""
   ]
  },
  {
   "cell_type": "code",
   "execution_count": 15,
   "metadata": {},
   "outputs": [
    {
     "name": "stdout",
     "output_type": "stream",
     "text": [
      "<class 'bs4.BeautifulSoup'>\n",
      "[<li>커피</li>, <li>녹차</li>, <li>우유</li>]\n",
      "<li>커피</li>\n",
      "커피\n",
      "['커피', '녹차', '우유']\n"
     ]
    }
   ],
   "source": [
    "from bs4 import BeautifulSoup\n",
    "\n",
    "#BeautifulSoup 타입으로 변환\n",
    "soup = BeautifulSoup(html_code, 'html.parser')\n",
    "\n",
    "#type 출력\n",
    "print(type(soup))\n",
    "\n",
    "#모든 <li> 태그 선택하기\n",
    "li_tags = soup.select('li')\n",
    "\n",
    "#결과 출력\n",
    "print(li_tags)\n",
    "print(li_tags[0])\n",
    "\n",
    "type(li_tags[0])\n",
    "\n",
    "print(li_tags[0].text)\n",
    "\n",
    "beverage_names = []\n",
    "\n",
    "for li in li_tags:\n",
    "    beverage_names.append(li.text)\n",
    "\n",
    "print(beverage_names)"
   ]
  },
  {
   "cell_type": "markdown",
   "metadata": {},
   "source": [
    "파싱(Parsing) pt2."
   ]
  },
  {
   "cell_type": "code",
   "execution_count": 28,
   "metadata": {},
   "outputs": [
    {
     "name": "stdout",
     "output_type": "stream",
     "text": [
      "['https://i.imgur.com/bY0l0PC.jpg', 'https://i.imgur.com/fvJLWdV.jpg', 'https://i.imgur.com/rNOIbNt.jpg']\n"
     ]
    }
   ],
   "source": [
    "from bs4 import BeautifulSoup\n",
    "\n",
    "html_code = \"\"\"<!DOCTYPE html>\n",
    "<html>\n",
    "<head>\n",
    "    <title>Sample Website</title>\n",
    "</head>\n",
    "<body>\n",
    "<h2>HTML 연습!</h2>\n",
    "\n",
    "<p>이것은 첫 번째 문단입니다.</p>\n",
    "<p>이것은 두 번째 문단입니다!</p>\n",
    "\n",
    "<ul>\n",
    "    <li>커피</li>\n",
    "    <li>녹차</li>\n",
    "    <li>우유</li>\n",
    "</ul>\n",
    "\n",
    "<img src='https://i.imgur.com/bY0l0PC.jpg' alt=\"coffee\"/>\n",
    "<img src='https://i.imgur.com/fvJLWdV.jpg' alt=\"green-tea\"/>\n",
    "<img src='https://i.imgur.com/rNOIbNt.jpg' alt=\"milk\"/>\n",
    "\n",
    "</body>\n",
    "</html>\"\"\"\n",
    "\n",
    "# BeatifulSoup 타입으로 변환\n",
    "soup = BeautifulSoup(html_code, 'html.parser')\n",
    "\n",
    "#모든 <img> 태그 선택하기\n",
    "img_tags = soup.select('img')\n",
    "\n",
    "img_src = []\n",
    "\n",
    "#img 태그에서 src 속성 추출하기 (마치 컬럼 추출하듯이 추출하면 됨.)\n",
    "for li in img_tags:\n",
    "    img_src.append(li['src'])\n",
    "    \n",
    "\n",
    "print(img_src)\n",
    "\n"
   ]
  }
 ],
 "metadata": {
  "kernelspec": {
   "display_name": "Python 3",
   "language": "python",
   "name": "python3"
  },
  "language_info": {
   "codemirror_mode": {
    "name": "ipython",
    "version": 3
   },
   "file_extension": ".py",
   "mimetype": "text/x-python",
   "name": "python",
   "nbconvert_exporter": "python",
   "pygments_lexer": "ipython3",
   "version": "3.7.3"
  }
 },
 "nbformat": 4,
 "nbformat_minor": 2
}
