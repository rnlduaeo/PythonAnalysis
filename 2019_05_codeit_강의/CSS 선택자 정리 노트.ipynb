{
 "cells": [
  {
   "cell_type": "markdown",
   "metadata": {},
   "source": [
    "### CSS 선택자 정리하기\n",
    "\n",
    "1. 태그 이름\n",
    "특정 태그 전체를 선택하려면 태그 이름을 사용\n",
    "    * li : 모든 li태그\n",
    "    * p : 모든 p태그\n",
    "\n",
    "2. 아이디\n",
    "특정 아이디의 태그를 선택하려면, 아이디 앞에 #를 붙입니다.\n",
    "    * #coffee : 아이디가 coffee인 태그\n",
    "    * #tea-leaf : 아이디가 tea-leaf인 태그\n",
    "\n",
    "3. 클래스\n",
    "특정 클래스의 태그를 선택하려면, 클래스 앞에 .을 붙입니다.\n",
    "    * .favorite : 클래스가 favoriate인 태그\n",
    "    * .reverse : 클래스가 reverse인 태그\n",
    "\n",
    "4. 속성\n",
    "속성의 이름과 값으로 태그를 선택하려면 [name='value'] 형색으로 적습니다.\n",
    "\n",
    "### CSS 선택자 조합해서 사용하기\n",
    "\n",
    "1. OR 연산\n",
    "쉼표(,)를 활용하면 OR연산이 됨.\n",
    "    * #login, .left : 아이디가 login이거나 클래스가 left인 태그\n",
    "    * p, i : 모든 p태그와 모든 i태그\n",
    "\n",
    "2. AND 연산\n",
    "두 CSS 선택자를 붙여쓰면 AND 연산이 됨. 두 CSS 선택자에 모두 해당되는 요소만 선택함\n",
    "    * .favorite.private : favorite 클래스와 private 클래스를 모두 가진 태그\n",
    "    * p.favorite : favorite 클래스를 가진 p태그\n",
    "\n",
    "3. 중첩된 요소\n",
    "중첩된 태그를 선택하려면 두 CSS 선택자를 띄워쓰면 됨\n",
    "첫번쨰 CSS 선택자로 선택된 태그 내부에서, 두번쨰 CSS 선택자를 찾음\n",
    "    * .favorite .private : favorite 클래스를 가진 태그에서 .private클래스를 가진 태그\n",
    "    * p .favotie : p 태그 아래에 중첩된, favorite 클래스를 가진 태그 \n"
   ]
  }
 ],
 "metadata": {
  "kernelspec": {
   "display_name": "Python 3",
   "language": "python",
   "name": "python3"
  },
  "language_info": {
   "codemirror_mode": {
    "name": "ipython",
    "version": 3
   },
   "file_extension": ".py",
   "mimetype": "text/x-python",
   "name": "python",
   "nbconvert_exporter": "python",
   "pygments_lexer": "ipython3",
   "version": "3.7.3"
  }
 },
 "nbformat": 4,
 "nbformat_minor": 2
}
