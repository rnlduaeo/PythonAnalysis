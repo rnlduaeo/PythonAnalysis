{
 "cells": [
  {
   "cell_type": "code",
   "execution_count": 4,
   "metadata": {},
   "outputs": [],
   "source": [
    "import pandas as pd\n",
    "import requests\n",
    "from bs4 import BeautifulSoup"
   ]
  },
  {
   "cell_type": "code",
   "execution_count": 18,
   "metadata": {},
   "outputs": [
    {
     "data": {
      "text/html": [
       "<div>\n",
       "<style scoped>\n",
       "    .dataframe tbody tr th:only-of-type {\n",
       "        vertical-align: middle;\n",
       "    }\n",
       "\n",
       "    .dataframe tbody tr th {\n",
       "        vertical-align: top;\n",
       "    }\n",
       "\n",
       "    .dataframe thead th {\n",
       "        text-align: right;\n",
       "    }\n",
       "</style>\n",
       "<table border=\"1\" class=\"dataframe\">\n",
       "  <thead>\n",
       "    <tr style=\"text-align: right;\">\n",
       "      <th></th>\n",
       "      <th>이름</th>\n",
       "      <th>가격</th>\n",
       "      <th>이미지 주소</th>\n",
       "    </tr>\n",
       "  </thead>\n",
       "  <tbody>\n",
       "    <tr>\n",
       "      <th>0</th>\n",
       "      <td>MICKE 미케</td>\n",
       "      <td>₩ 99,900 /개</td>\n",
       "      <td>https://www.ikea.com/kr/ko/images/products/mic...</td>\n",
       "    </tr>\n",
       "    <tr>\n",
       "      <th>1</th>\n",
       "      <td>BRÄDA 브레다</td>\n",
       "      <td>₩ 4,900 /개</td>\n",
       "      <td>https://www.ikea.com/kr/ko/images/products/bra...</td>\n",
       "    </tr>\n",
       "    <tr>\n",
       "      <th>2</th>\n",
       "      <td>VITTSJÖ 빗셰</td>\n",
       "      <td>₩ 29,900 /개</td>\n",
       "      <td>https://www.ikea.com/kr/ko/images/products/vit...</td>\n",
       "    </tr>\n",
       "    <tr>\n",
       "      <th>3</th>\n",
       "      <td>MICKE 미케</td>\n",
       "      <td>₩ 59,900 /개</td>\n",
       "      <td>https://www.ikea.com/kr/ko/images/products/mic...</td>\n",
       "    </tr>\n",
       "    <tr>\n",
       "      <th>4</th>\n",
       "      <td>ISBERGET 이스베리에트</td>\n",
       "      <td>₩ 2,500 /개</td>\n",
       "      <td>https://www.ikea.com/kr/ko/images/products/isb...</td>\n",
       "    </tr>\n",
       "  </tbody>\n",
       "</table>\n",
       "</div>"
      ],
      "text/plain": [
       "                이름           가격  \\\n",
       "0         MICKE 미케  ₩ 99,900 /개   \n",
       "1        BRÄDA 브레다   ₩ 4,900 /개   \n",
       "2       VITTSJÖ 빗셰  ₩ 29,900 /개   \n",
       "3         MICKE 미케  ₩ 59,900 /개   \n",
       "4  ISBERGET 이스베리에트   ₩ 2,500 /개   \n",
       "\n",
       "                                              이미지 주소  \n",
       "0  https://www.ikea.com/kr/ko/images/products/mic...  \n",
       "1  https://www.ikea.com/kr/ko/images/products/bra...  \n",
       "2  https://www.ikea.com/kr/ko/images/products/vit...  \n",
       "3  https://www.ikea.com/kr/ko/images/products/mic...  \n",
       "4  https://www.ikea.com/kr/ko/images/products/isb...  "
      ]
     },
     "execution_count": 18,
     "metadata": {},
     "output_type": "execute_result"
    }
   ],
   "source": [
    "#빈 리스트 생성\n",
    "records=[]\n",
    "\n",
    "#시작 페이지 지정\n",
    "page_num = 1\n",
    "\n",
    "#class 이름이 띄어쓰기로 되어있으면 중첩 class 임.. 둘다 적용한다는 뜻\n",
    "#dataframe으로 만들기 위해 리스트 안에 리스트 만드는 절차\n",
    "while True:\n",
    "    response = requests.get(\"https://www.ikea.com/kr/ko/search/?query=desk&pageNumber=\" + str(page_num))\n",
    "    \n",
    "    soup = BeautifulSoup(response.text, 'html.parser')\n",
    "    \n",
    "    if len(soup.select('.prodName')) > 0:\n",
    "        product_names = soup.select('.prodName')\n",
    "        product_prices = soup.select('.prodPrice')\n",
    "        product_urls = soup.select('.prodImg')\n",
    "        page_num += 1\n",
    "   \n",
    "        index = 0\n",
    "        for name in product_names:\n",
    "            record = []\n",
    "            record.append(product_names[index].text)\n",
    "            record.append(product_prices[index].text.strip())\n",
    "            record.append(\"https://www.ikea.com\" + product_urls[index].get('src'))\n",
    "            records.append(record)\n",
    "            index +=1\n",
    "               \n",
    "    else:\n",
    "        break\n",
    "\n",
    "df = pd.DataFrame(data=records, columns = [\"이름\", \"가격\", \"이미지 주소\"])\n",
    "\n",
    "df.head()\n"
   ]
  },
  {
   "cell_type": "code",
   "execution_count": null,
   "metadata": {},
   "outputs": [],
   "source": []
  }
 ],
 "metadata": {
  "kernelspec": {
   "display_name": "Python 3",
   "language": "python",
   "name": "python3"
  },
  "language_info": {
   "codemirror_mode": {
    "name": "ipython",
    "version": 3
   },
   "file_extension": ".py",
   "mimetype": "text/x-python",
   "name": "python",
   "nbconvert_exporter": "python",
   "pygments_lexer": "ipython3",
   "version": "3.7.3"
  }
 },
 "nbformat": 4,
 "nbformat_minor": 2
}
