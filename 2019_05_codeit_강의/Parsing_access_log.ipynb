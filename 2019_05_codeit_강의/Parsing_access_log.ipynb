{
 "cells": [
  {
   "cell_type": "code",
   "execution_count": 3,
   "metadata": {},
   "outputs": [],
   "source": [
    "import pandas as pd\n",
    "import seaborn as sns"
   ]
  },
  {
   "cell_type": "code",
   "execution_count": 7,
   "metadata": {},
   "outputs": [],
   "source": [
    "from datetime import datetime\n",
    "import pytz"
   ]
  },
  {
   "cell_type": "code",
   "execution_count": 8,
   "metadata": {},
   "outputs": [],
   "source": [
    "import re"
   ]
  },
  {
   "cell_type": "code",
   "execution_count": 6,
   "metadata": {},
   "outputs": [],
   "source": [
    "def parse_str(x):\n",
    "    return x[1:-1]"
   ]
  },
  {
   "cell_type": "code",
   "execution_count": 31,
   "metadata": {},
   "outputs": [],
   "source": [
    "def parse_datetime(x):\n",
    "    dt=datetime.strptime(x[1:-1], '%d/%b/%Y:%H:%M:%S')\n",
    "    return dt\n",
    "    #dt_tz= int(x[-6:-3])*60 + int(x[-3:-1])\n",
    "    #return dt.replace(tzinfo=pytz.FixedOffset(dt_tz))"
   ]
  },
  {
   "cell_type": "code",
   "execution_count": 32,
   "metadata": {},
   "outputs": [
    {
     "data": {
      "text/plain": [
       "datetime.datetime(2016, 3, 14, 18, 22, 16)"
      ]
     },
     "execution_count": 32,
     "metadata": {},
     "output_type": "execute_result"
    }
   ],
   "source": [
    "result = parse_datetime('[14/Mar/2016:18:22:16]')\n",
    "result"
   ]
  },
  {
   "cell_type": "code",
   "execution_count": 37,
   "metadata": {},
   "outputs": [],
   "source": [
    "data=pd.read_csv('data/access.log', sep=r'\\s(?=(?:[^\"]*\"[^\"]*\")*[^\"]*$)(?![^\\[]*\\])', engine='python', na_values='-', header=None, usecols=[0, 3, 4, 5, 6, 7, 8],\n",
    "                names=['ip', 'time', 'request', 'status', 'size', 'referer', 'user_agent'],\n",
    "                converters={'time': parse_datetime,\n",
    "                           'request': parse_str,\n",
    "                           'status': int,\n",
    "                           'size': int,\n",
    "                           'referer': parse_str, \n",
    "                           'user_agent': parse_str})"
   ]
  },
  {
   "cell_type": "code",
   "execution_count": 38,
   "metadata": {},
   "outputs": [
    {
     "data": {
      "text/html": [
       "<div>\n",
       "<style scoped>\n",
       "    .dataframe tbody tr th:only-of-type {\n",
       "        vertical-align: middle;\n",
       "    }\n",
       "\n",
       "    .dataframe tbody tr th {\n",
       "        vertical-align: top;\n",
       "    }\n",
       "\n",
       "    .dataframe thead th {\n",
       "        text-align: right;\n",
       "    }\n",
       "</style>\n",
       "<table border=\"1\" class=\"dataframe\">\n",
       "  <thead>\n",
       "    <tr style=\"text-align: right;\">\n",
       "      <th></th>\n",
       "      <th>ip</th>\n",
       "      <th>time</th>\n",
       "      <th>request</th>\n",
       "      <th>status</th>\n",
       "      <th>size</th>\n",
       "      <th>referer</th>\n",
       "      <th>user_agent</th>\n",
       "    </tr>\n",
       "  </thead>\n",
       "  <tbody>\n",
       "    <tr>\n",
       "      <th>0</th>\n",
       "      <td>209.160.24.63</td>\n",
       "      <td>2016-03-03 18:22:16</td>\n",
       "      <td>GET /product.screen?productId=WC-SH-A02&amp;JSESSI...</td>\n",
       "      <td>200</td>\n",
       "      <td>3878</td>\n",
       "      <td>http://www.google.com</td>\n",
       "      <td>Mozilla/5.0 (Windows NT 6.1; WOW64) AppleWebKi...</td>\n",
       "    </tr>\n",
       "    <tr>\n",
       "      <th>1</th>\n",
       "      <td>209.160.24.63</td>\n",
       "      <td>2016-03-03 18:22:16</td>\n",
       "      <td>GET /oldlink?itemId=EST-6&amp;JSESSIONID=SD0SL6FF7...</td>\n",
       "      <td>200</td>\n",
       "      <td>1748</td>\n",
       "      <td>http://www.exploratorystore.io/oldlink?itemId=...</td>\n",
       "      <td>Mozilla/5.0 (Windows NT 6.1; WOW64) AppleWebKi...</td>\n",
       "    </tr>\n",
       "    <tr>\n",
       "      <th>2</th>\n",
       "      <td>209.160.24.63</td>\n",
       "      <td>2016-03-03 18:22:17</td>\n",
       "      <td>GET /product.screen?productId=BS-AG-G09&amp;JSESSI...</td>\n",
       "      <td>200</td>\n",
       "      <td>2550</td>\n",
       "      <td>http://www.exploratorystore.io/product.screen?...</td>\n",
       "      <td>Mozilla/5.0 (Windows NT 6.1; WOW64) AppleWebKi...</td>\n",
       "    </tr>\n",
       "    <tr>\n",
       "      <th>3</th>\n",
       "      <td>209.160.24.63</td>\n",
       "      <td>2016-03-03 18:22:19</td>\n",
       "      <td>POST /category.screen?categoryId=STRATEGY&amp;JSES...</td>\n",
       "      <td>200</td>\n",
       "      <td>407</td>\n",
       "      <td>http://www.exploratorystore.io/cart.do?action=...</td>\n",
       "      <td>Mozilla/5.0 (Windows NT 6.1; WOW64) AppleWebKi...</td>\n",
       "    </tr>\n",
       "    <tr>\n",
       "      <th>4</th>\n",
       "      <td>209.160.24.63</td>\n",
       "      <td>2016-03-03 18:22:20</td>\n",
       "      <td>GET /product.screen?productId=FS-SG-G03&amp;JSESSI...</td>\n",
       "      <td>200</td>\n",
       "      <td>2047</td>\n",
       "      <td>http://www.exploratorystore.io/category.screen...</td>\n",
       "      <td>Mozilla/5.0 (Windows NT 6.1; WOW64) AppleWebKi...</td>\n",
       "    </tr>\n",
       "  </tbody>\n",
       "</table>\n",
       "</div>"
      ],
      "text/plain": [
       "              ip                time  \\\n",
       "0  209.160.24.63 2016-03-03 18:22:16   \n",
       "1  209.160.24.63 2016-03-03 18:22:16   \n",
       "2  209.160.24.63 2016-03-03 18:22:17   \n",
       "3  209.160.24.63 2016-03-03 18:22:19   \n",
       "4  209.160.24.63 2016-03-03 18:22:20   \n",
       "\n",
       "                                             request  status  size  \\\n",
       "0  GET /product.screen?productId=WC-SH-A02&JSESSI...     200  3878   \n",
       "1  GET /oldlink?itemId=EST-6&JSESSIONID=SD0SL6FF7...     200  1748   \n",
       "2  GET /product.screen?productId=BS-AG-G09&JSESSI...     200  2550   \n",
       "3  POST /category.screen?categoryId=STRATEGY&JSES...     200   407   \n",
       "4  GET /product.screen?productId=FS-SG-G03&JSESSI...     200  2047   \n",
       "\n",
       "                                             referer  \\\n",
       "0                              http://www.google.com   \n",
       "1  http://www.exploratorystore.io/oldlink?itemId=...   \n",
       "2  http://www.exploratorystore.io/product.screen?...   \n",
       "3  http://www.exploratorystore.io/cart.do?action=...   \n",
       "4  http://www.exploratorystore.io/category.screen...   \n",
       "\n",
       "                                          user_agent  \n",
       "0  Mozilla/5.0 (Windows NT 6.1; WOW64) AppleWebKi...  \n",
       "1  Mozilla/5.0 (Windows NT 6.1; WOW64) AppleWebKi...  \n",
       "2  Mozilla/5.0 (Windows NT 6.1; WOW64) AppleWebKi...  \n",
       "3  Mozilla/5.0 (Windows NT 6.1; WOW64) AppleWebKi...  \n",
       "4  Mozilla/5.0 (Windows NT 6.1; WOW64) AppleWebKi...  "
      ]
     },
     "execution_count": 38,
     "metadata": {},
     "output_type": "execute_result"
    }
   ],
   "source": [
    "data.head()"
   ]
  }
 ],
 "metadata": {
  "kernelspec": {
   "display_name": "Python 3",
   "language": "python",
   "name": "python3"
  },
  "language_info": {
   "codemirror_mode": {
    "name": "ipython",
    "version": 3
   },
   "file_extension": ".py",
   "mimetype": "text/x-python",
   "name": "python",
   "nbconvert_exporter": "python",
   "pygments_lexer": "ipython3",
   "version": "3.7.3"
  }
 },
 "nbformat": 4,
 "nbformat_minor": 2
}
